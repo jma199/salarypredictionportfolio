{
 "cells": [
  {
   "cell_type": "markdown",
   "metadata": {
    "ExecuteTime": {
     "end_time": "2020-07-28T17:37:05.652846Z",
     "start_time": "2020-07-28T17:37:05.648782Z"
    }
   },
   "source": [
    "<h1>Salary Predictions Based on Job Descriptions</h1>"
   ]
  },
  {
   "cell_type": "markdown",
   "metadata": {},
   "source": [
    "'''This notebook pulls in salary data, builds and tests several predictive models,\n",
    "   and then makes salary predictions on test data using the best model.'''\n",
    "\n",
    "__author__ = \"Jennifer Ma\"\n",
    "__email__ = \"jenniferfmma@gmail.com\""
   ]
  },
  {
   "cell_type": "markdown",
   "metadata": {},
   "source": [
    "<h3>Import packages</h3>"
   ]
  },
  {
   "cell_type": "code",
   "execution_count": 1,
   "metadata": {
    "ExecuteTime": {
     "end_time": "2020-07-30T16:01:59.499095Z",
     "start_time": "2020-07-30T16:01:58.571461Z"
    }
   },
   "outputs": [],
   "source": [
    "import numpy as np\n",
    "import pandas as pd\n",
    "import matplotlib.pyplot as plt\n",
    "import seaborn as sns\n",
    "\n",
    "from sklearn.linear_model import LinearRegression\n",
    "from sklearn.ensemble import RandomForestRegressor, GradientBoostingRegressor\n",
    "from sklearn.preprocessing import StandardScaler\n",
    "from sklearn.decomposition import PCA\n",
    "# from sklearn.preprocessing import LabelEncoder\n",
    "from sklearn.preprocessing import OneHotEncoder\n",
    "from sklearn.model_selection import cross_val_score\n",
    "from sklearn.metrics import mean_squared_error\n",
    "from sklearn.pipeline import make_pipeline\n",
    "from sklearn.utils import shuffle"
   ]
  },
  {
   "cell_type": "code",
   "execution_count": 2,
   "metadata": {
    "ExecuteTime": {
     "end_time": "2020-07-30T16:02:02.390625Z",
     "start_time": "2020-07-30T16:01:59.501427Z"
    }
   },
   "outputs": [],
   "source": [
    "# Input file\n",
    "training_feat_file = 'data/train_features.csv'\n",
    "target_df_file = 'data/train_salaries.csv'\n",
    "test_features_file = 'data/test_features.csv'\n",
    "\n",
    "# Variables\n",
    "cat_cols = ['companyId', 'jobType', 'degree', 'major', 'industry']\n",
    "num_cols = ['yearsExperience', 'milesFromMetropolis']\n",
    "target_col = 'salary'\n",
    "\n",
    "def load_file(filename):\n",
    "    '''load csv to pd dataframe'''\n",
    "    return pd.read_csv(filename)\n",
    "\n",
    "features_df = load_file(training_feat_file)\n",
    "target_df = load_file(target_df_file)\n",
    "test_df = load_file(test_features_file)"
   ]
  },
  {
   "cell_type": "code",
   "execution_count": 3,
   "metadata": {
    "ExecuteTime": {
     "end_time": "2020-07-30T16:02:04.137226Z",
     "start_time": "2020-07-30T16:02:02.392504Z"
    }
   },
   "outputs": [
    {
     "data": {
      "text/html": [
       "<div>\n",
       "<style scoped>\n",
       "    .dataframe tbody tr th:only-of-type {\n",
       "        vertical-align: middle;\n",
       "    }\n",
       "\n",
       "    .dataframe tbody tr th {\n",
       "        vertical-align: top;\n",
       "    }\n",
       "\n",
       "    .dataframe thead th {\n",
       "        text-align: right;\n",
       "    }\n",
       "</style>\n",
       "<table border=\"1\" class=\"dataframe\">\n",
       "  <thead>\n",
       "    <tr style=\"text-align: right;\">\n",
       "      <th></th>\n",
       "      <th>index</th>\n",
       "      <th>jobId</th>\n",
       "      <th>companyId</th>\n",
       "      <th>jobType</th>\n",
       "      <th>degree</th>\n",
       "      <th>major</th>\n",
       "      <th>industry</th>\n",
       "      <th>yearsExperience</th>\n",
       "      <th>milesFromMetropolis</th>\n",
       "      <th>salary</th>\n",
       "    </tr>\n",
       "  </thead>\n",
       "  <tbody>\n",
       "    <tr>\n",
       "      <th>0</th>\n",
       "      <td>448120</td>\n",
       "      <td>JOB1362684855807</td>\n",
       "      <td>COMP57</td>\n",
       "      <td>CFO</td>\n",
       "      <td>BACHELORS</td>\n",
       "      <td>NONE</td>\n",
       "      <td>EDUCATION</td>\n",
       "      <td>7</td>\n",
       "      <td>71</td>\n",
       "      <td>107</td>\n",
       "    </tr>\n",
       "    <tr>\n",
       "      <th>1</th>\n",
       "      <td>442026</td>\n",
       "      <td>JOB1362684849713</td>\n",
       "      <td>COMP53</td>\n",
       "      <td>CEO</td>\n",
       "      <td>DOCTORAL</td>\n",
       "      <td>BIOLOGY</td>\n",
       "      <td>EDUCATION</td>\n",
       "      <td>22</td>\n",
       "      <td>5</td>\n",
       "      <td>152</td>\n",
       "    </tr>\n",
       "    <tr>\n",
       "      <th>2</th>\n",
       "      <td>368115</td>\n",
       "      <td>JOB1362684775802</td>\n",
       "      <td>COMP41</td>\n",
       "      <td>JUNIOR</td>\n",
       "      <td>BACHELORS</td>\n",
       "      <td>BUSINESS</td>\n",
       "      <td>FINANCE</td>\n",
       "      <td>7</td>\n",
       "      <td>37</td>\n",
       "      <td>131</td>\n",
       "    </tr>\n",
       "    <tr>\n",
       "      <th>3</th>\n",
       "      <td>792662</td>\n",
       "      <td>JOB1362685200349</td>\n",
       "      <td>COMP9</td>\n",
       "      <td>VICE_PRESIDENT</td>\n",
       "      <td>MASTERS</td>\n",
       "      <td>LITERATURE</td>\n",
       "      <td>EDUCATION</td>\n",
       "      <td>5</td>\n",
       "      <td>71</td>\n",
       "      <td>109</td>\n",
       "    </tr>\n",
       "    <tr>\n",
       "      <th>4</th>\n",
       "      <td>366807</td>\n",
       "      <td>JOB1362684774494</td>\n",
       "      <td>COMP36</td>\n",
       "      <td>MANAGER</td>\n",
       "      <td>HIGH_SCHOOL</td>\n",
       "      <td>NONE</td>\n",
       "      <td>WEB</td>\n",
       "      <td>6</td>\n",
       "      <td>81</td>\n",
       "      <td>91</td>\n",
       "    </tr>\n",
       "  </tbody>\n",
       "</table>\n",
       "</div>"
      ],
      "text/plain": [
       "    index             jobId companyId         jobType       degree  \\\n",
       "0  448120  JOB1362684855807    COMP57             CFO    BACHELORS   \n",
       "1  442026  JOB1362684849713    COMP53             CEO     DOCTORAL   \n",
       "2  368115  JOB1362684775802    COMP41          JUNIOR    BACHELORS   \n",
       "3  792662  JOB1362685200349     COMP9  VICE_PRESIDENT      MASTERS   \n",
       "4  366807  JOB1362684774494    COMP36         MANAGER  HIGH_SCHOOL   \n",
       "\n",
       "        major   industry  yearsExperience  milesFromMetropolis  salary  \n",
       "0        NONE  EDUCATION                7                   71     107  \n",
       "1     BIOLOGY  EDUCATION               22                    5     152  \n",
       "2    BUSINESS    FINANCE                7                   37     131  \n",
       "3  LITERATURE  EDUCATION                5                   71     109  \n",
       "4        NONE        WEB                6                   81      91  "
      ]
     },
     "execution_count": 3,
     "metadata": {},
     "output_type": "execute_result"
    }
   ],
   "source": [
    "# Combine data\n",
    "merge_train_df = pd.merge(left=features_df, right=target_df, how='inner', on='jobId', left_index=False, right_index=False)\n",
    "\n",
    "# Clean up target df by removing salaries <= 0 as seen during EDA\n",
    "raw_train_df = merge_train_df[merge_train_df.salary>0]\n",
    "\n",
    "# Shuffle data to improve cross-validation accuracy and reindex\n",
    "clean_train_df = shuffle(raw_train_df).reset_index()\n",
    "\n",
    "clean_train_df.head()"
   ]
  },
  {
   "cell_type": "code",
   "execution_count": 4,
   "metadata": {
    "ExecuteTime": {
     "end_time": "2020-07-30T16:02:04.331327Z",
     "start_time": "2020-07-30T16:02:04.139452Z"
    },
    "scrolled": true
   },
   "outputs": [
    {
     "data": {
      "text/html": [
       "<div>\n",
       "<style scoped>\n",
       "    .dataframe tbody tr th:only-of-type {\n",
       "        vertical-align: middle;\n",
       "    }\n",
       "\n",
       "    .dataframe tbody tr th {\n",
       "        vertical-align: top;\n",
       "    }\n",
       "\n",
       "    .dataframe thead th {\n",
       "        text-align: right;\n",
       "    }\n",
       "</style>\n",
       "<table border=\"1\" class=\"dataframe\">\n",
       "  <thead>\n",
       "    <tr style=\"text-align: right;\">\n",
       "      <th></th>\n",
       "      <th>index</th>\n",
       "      <th>yearsExperience</th>\n",
       "      <th>milesFromMetropolis</th>\n",
       "      <th>salary</th>\n",
       "    </tr>\n",
       "  </thead>\n",
       "  <tbody>\n",
       "    <tr>\n",
       "      <th>count</th>\n",
       "      <td>999995.000000</td>\n",
       "      <td>999995.000000</td>\n",
       "      <td>999995.000000</td>\n",
       "      <td>999995.000000</td>\n",
       "    </tr>\n",
       "    <tr>\n",
       "      <th>mean</th>\n",
       "      <td>499999.177092</td>\n",
       "      <td>11.992407</td>\n",
       "      <td>49.529381</td>\n",
       "      <td>116.062398</td>\n",
       "    </tr>\n",
       "    <tr>\n",
       "      <th>std</th>\n",
       "      <td>288675.219219</td>\n",
       "      <td>7.212390</td>\n",
       "      <td>28.877721</td>\n",
       "      <td>38.717163</td>\n",
       "    </tr>\n",
       "    <tr>\n",
       "      <th>min</th>\n",
       "      <td>0.000000</td>\n",
       "      <td>0.000000</td>\n",
       "      <td>0.000000</td>\n",
       "      <td>17.000000</td>\n",
       "    </tr>\n",
       "    <tr>\n",
       "      <th>25%</th>\n",
       "      <td>249999.500000</td>\n",
       "      <td>6.000000</td>\n",
       "      <td>25.000000</td>\n",
       "      <td>88.000000</td>\n",
       "    </tr>\n",
       "    <tr>\n",
       "      <th>50%</th>\n",
       "      <td>499999.000000</td>\n",
       "      <td>12.000000</td>\n",
       "      <td>50.000000</td>\n",
       "      <td>114.000000</td>\n",
       "    </tr>\n",
       "    <tr>\n",
       "      <th>75%</th>\n",
       "      <td>749998.500000</td>\n",
       "      <td>18.000000</td>\n",
       "      <td>75.000000</td>\n",
       "      <td>141.000000</td>\n",
       "    </tr>\n",
       "    <tr>\n",
       "      <th>max</th>\n",
       "      <td>999999.000000</td>\n",
       "      <td>24.000000</td>\n",
       "      <td>99.000000</td>\n",
       "      <td>301.000000</td>\n",
       "    </tr>\n",
       "  </tbody>\n",
       "</table>\n",
       "</div>"
      ],
      "text/plain": [
       "               index  yearsExperience  milesFromMetropolis         salary\n",
       "count  999995.000000    999995.000000        999995.000000  999995.000000\n",
       "mean   499999.177092        11.992407            49.529381     116.062398\n",
       "std    288675.219219         7.212390            28.877721      38.717163\n",
       "min         0.000000         0.000000             0.000000      17.000000\n",
       "25%    249999.500000         6.000000            25.000000      88.000000\n",
       "50%    499999.000000        12.000000            50.000000     114.000000\n",
       "75%    749998.500000        18.000000            75.000000     141.000000\n",
       "max    999999.000000        24.000000            99.000000     301.000000"
      ]
     },
     "execution_count": 4,
     "metadata": {},
     "output_type": "execute_result"
    }
   ],
   "source": [
    "clean_train_df.describe()"
   ]
  },
  {
   "cell_type": "code",
   "execution_count": 5,
   "metadata": {
    "ExecuteTime": {
     "end_time": "2020-07-30T16:02:04.375909Z",
     "start_time": "2020-07-30T16:02:04.334649Z"
    }
   },
   "outputs": [
    {
     "data": {
      "text/plain": [
       "0    107\n",
       "1    152\n",
       "2    131\n",
       "3    109\n",
       "4     91\n",
       "Name: salary, dtype: int64"
      ]
     },
     "execution_count": 5,
     "metadata": {},
     "output_type": "execute_result"
    }
   ],
   "source": [
    "target_df = clean_train_df['salary']\n",
    "target_df.head()"
   ]
  },
  {
   "cell_type": "markdown",
   "metadata": {},
   "source": [
    "## Part 3 - DEVELOP MODEL"
   ]
  },
  {
   "cell_type": "markdown",
   "metadata": {},
   "source": [
    "Cycle through creating features, tuning models, and training/validating models until our efficacy goal of <360 MSE is reached."
   ]
  },
  {
   "cell_type": "markdown",
   "metadata": {
    "ExecuteTime": {
     "end_time": "2020-07-28T17:32:31.695298Z",
     "start_time": "2020-07-28T17:32:31.692469Z"
    }
   },
   "source": [
    "### 7 : Engineer features"
   ]
  },
  {
   "cell_type": "code",
   "execution_count": 6,
   "metadata": {
    "ExecuteTime": {
     "end_time": "2020-07-30T16:02:53.619029Z",
     "start_time": "2020-07-30T16:02:51.949442Z"
    },
    "scrolled": true
   },
   "outputs": [],
   "source": [
    "# Before modeling, categorical variables to be encoded for both the training and test data\n",
    "\n",
    "def one_hot_encoding_df(df, cat_vars = None, num_vars = None):\n",
    "    '''Perform one-hot encoding on categorical variables and combine with numerical variables'''\n",
    "    cat_df = pd.get_dummies(df[cat_vars])\n",
    "    num_df = df[num_vars].apply(pd.to_numeric)\n",
    "    return pd.concat([cat_df, num_df], axis = 1)\n",
    "\n",
    "training_feat_df = one_hot_encoding_df(clean_train_df, cat_vars = cat_cols, num_vars = num_cols)\n",
    "test_feat_df = one_hot_encoding_df(test_df, cat_vars = cat_cols, num_vars = num_cols)"
   ]
  },
  {
   "cell_type": "code",
   "execution_count": 7,
   "metadata": {
    "ExecuteTime": {
     "end_time": "2020-07-30T16:02:55.750673Z",
     "start_time": "2020-07-30T16:02:55.732675Z"
    }
   },
   "outputs": [
    {
     "data": {
      "text/html": [
       "<div>\n",
       "<style scoped>\n",
       "    .dataframe tbody tr th:only-of-type {\n",
       "        vertical-align: middle;\n",
       "    }\n",
       "\n",
       "    .dataframe tbody tr th {\n",
       "        vertical-align: top;\n",
       "    }\n",
       "\n",
       "    .dataframe thead th {\n",
       "        text-align: right;\n",
       "    }\n",
       "</style>\n",
       "<table border=\"1\" class=\"dataframe\">\n",
       "  <thead>\n",
       "    <tr style=\"text-align: right;\">\n",
       "      <th></th>\n",
       "      <th>companyId_COMP0</th>\n",
       "      <th>companyId_COMP1</th>\n",
       "      <th>companyId_COMP10</th>\n",
       "      <th>companyId_COMP11</th>\n",
       "      <th>companyId_COMP12</th>\n",
       "      <th>companyId_COMP13</th>\n",
       "      <th>companyId_COMP14</th>\n",
       "      <th>companyId_COMP15</th>\n",
       "      <th>companyId_COMP16</th>\n",
       "      <th>companyId_COMP17</th>\n",
       "      <th>...</th>\n",
       "      <th>major_PHYSICS</th>\n",
       "      <th>industry_AUTO</th>\n",
       "      <th>industry_EDUCATION</th>\n",
       "      <th>industry_FINANCE</th>\n",
       "      <th>industry_HEALTH</th>\n",
       "      <th>industry_OIL</th>\n",
       "      <th>industry_SERVICE</th>\n",
       "      <th>industry_WEB</th>\n",
       "      <th>yearsExperience</th>\n",
       "      <th>milesFromMetropolis</th>\n",
       "    </tr>\n",
       "  </thead>\n",
       "  <tbody>\n",
       "    <tr>\n",
       "      <th>0</th>\n",
       "      <td>0</td>\n",
       "      <td>0</td>\n",
       "      <td>0</td>\n",
       "      <td>0</td>\n",
       "      <td>0</td>\n",
       "      <td>0</td>\n",
       "      <td>0</td>\n",
       "      <td>0</td>\n",
       "      <td>0</td>\n",
       "      <td>0</td>\n",
       "      <td>...</td>\n",
       "      <td>0</td>\n",
       "      <td>0</td>\n",
       "      <td>1</td>\n",
       "      <td>0</td>\n",
       "      <td>0</td>\n",
       "      <td>0</td>\n",
       "      <td>0</td>\n",
       "      <td>0</td>\n",
       "      <td>7</td>\n",
       "      <td>71</td>\n",
       "    </tr>\n",
       "    <tr>\n",
       "      <th>1</th>\n",
       "      <td>0</td>\n",
       "      <td>0</td>\n",
       "      <td>0</td>\n",
       "      <td>0</td>\n",
       "      <td>0</td>\n",
       "      <td>0</td>\n",
       "      <td>0</td>\n",
       "      <td>0</td>\n",
       "      <td>0</td>\n",
       "      <td>0</td>\n",
       "      <td>...</td>\n",
       "      <td>0</td>\n",
       "      <td>0</td>\n",
       "      <td>1</td>\n",
       "      <td>0</td>\n",
       "      <td>0</td>\n",
       "      <td>0</td>\n",
       "      <td>0</td>\n",
       "      <td>0</td>\n",
       "      <td>22</td>\n",
       "      <td>5</td>\n",
       "    </tr>\n",
       "    <tr>\n",
       "      <th>2</th>\n",
       "      <td>0</td>\n",
       "      <td>0</td>\n",
       "      <td>0</td>\n",
       "      <td>0</td>\n",
       "      <td>0</td>\n",
       "      <td>0</td>\n",
       "      <td>0</td>\n",
       "      <td>0</td>\n",
       "      <td>0</td>\n",
       "      <td>0</td>\n",
       "      <td>...</td>\n",
       "      <td>0</td>\n",
       "      <td>0</td>\n",
       "      <td>0</td>\n",
       "      <td>1</td>\n",
       "      <td>0</td>\n",
       "      <td>0</td>\n",
       "      <td>0</td>\n",
       "      <td>0</td>\n",
       "      <td>7</td>\n",
       "      <td>37</td>\n",
       "    </tr>\n",
       "    <tr>\n",
       "      <th>3</th>\n",
       "      <td>0</td>\n",
       "      <td>0</td>\n",
       "      <td>0</td>\n",
       "      <td>0</td>\n",
       "      <td>0</td>\n",
       "      <td>0</td>\n",
       "      <td>0</td>\n",
       "      <td>0</td>\n",
       "      <td>0</td>\n",
       "      <td>0</td>\n",
       "      <td>...</td>\n",
       "      <td>0</td>\n",
       "      <td>0</td>\n",
       "      <td>1</td>\n",
       "      <td>0</td>\n",
       "      <td>0</td>\n",
       "      <td>0</td>\n",
       "      <td>0</td>\n",
       "      <td>0</td>\n",
       "      <td>5</td>\n",
       "      <td>71</td>\n",
       "    </tr>\n",
       "    <tr>\n",
       "      <th>4</th>\n",
       "      <td>0</td>\n",
       "      <td>0</td>\n",
       "      <td>0</td>\n",
       "      <td>0</td>\n",
       "      <td>0</td>\n",
       "      <td>0</td>\n",
       "      <td>0</td>\n",
       "      <td>0</td>\n",
       "      <td>0</td>\n",
       "      <td>0</td>\n",
       "      <td>...</td>\n",
       "      <td>0</td>\n",
       "      <td>0</td>\n",
       "      <td>0</td>\n",
       "      <td>0</td>\n",
       "      <td>0</td>\n",
       "      <td>0</td>\n",
       "      <td>0</td>\n",
       "      <td>1</td>\n",
       "      <td>6</td>\n",
       "      <td>81</td>\n",
       "    </tr>\n",
       "  </tbody>\n",
       "</table>\n",
       "<p>5 rows × 94 columns</p>\n",
       "</div>"
      ],
      "text/plain": [
       "   companyId_COMP0  companyId_COMP1  companyId_COMP10  companyId_COMP11  \\\n",
       "0                0                0                 0                 0   \n",
       "1                0                0                 0                 0   \n",
       "2                0                0                 0                 0   \n",
       "3                0                0                 0                 0   \n",
       "4                0                0                 0                 0   \n",
       "\n",
       "   companyId_COMP12  companyId_COMP13  companyId_COMP14  companyId_COMP15  \\\n",
       "0                 0                 0                 0                 0   \n",
       "1                 0                 0                 0                 0   \n",
       "2                 0                 0                 0                 0   \n",
       "3                 0                 0                 0                 0   \n",
       "4                 0                 0                 0                 0   \n",
       "\n",
       "   companyId_COMP16  companyId_COMP17  ...  major_PHYSICS  industry_AUTO  \\\n",
       "0                 0                 0  ...              0              0   \n",
       "1                 0                 0  ...              0              0   \n",
       "2                 0                 0  ...              0              0   \n",
       "3                 0                 0  ...              0              0   \n",
       "4                 0                 0  ...              0              0   \n",
       "\n",
       "   industry_EDUCATION  industry_FINANCE  industry_HEALTH  industry_OIL  \\\n",
       "0                   1                 0                0             0   \n",
       "1                   1                 0                0             0   \n",
       "2                   0                 1                0             0   \n",
       "3                   1                 0                0             0   \n",
       "4                   0                 0                0             0   \n",
       "\n",
       "   industry_SERVICE  industry_WEB  yearsExperience  milesFromMetropolis  \n",
       "0                 0             0                7                   71  \n",
       "1                 0             0               22                    5  \n",
       "2                 0             0                7                   37  \n",
       "3                 0             0                5                   71  \n",
       "4                 0             1                6                   81  \n",
       "\n",
       "[5 rows x 94 columns]"
      ]
     },
     "execution_count": 7,
     "metadata": {},
     "output_type": "execute_result"
    }
   ],
   "source": [
    "training_feat_df.head()"
   ]
  },
  {
   "cell_type": "markdown",
   "metadata": {},
   "source": [
    "### 8 : Create and Test Models"
   ]
  },
  {
   "cell_type": "raw",
   "metadata": {},
   "source": [
    "# Recall our baseline model using a simple model: Linear Regression\n",
    "\n",
    "X = df.drop(columns = ['jobId', 'companyId', 'salary'])\n",
    "y = df['salary']\n",
    "lin_reg = LinearRegression().fit(X, y)\n",
    "\n",
    "# Measure the efficacy of baseline model using MSE\n",
    "neg_mse = cross_val_score(lin_reg, X, y, scoring ='neg_mean_squared_error', cv = 5)\n",
    "baseline_score = -1.0*np.mean(neg_mse)\n",
    "\n",
    "print('Baseline model MSE: ', baseline_score)\n",
    "\n",
    "# Baseline model MSE:  399.76793197190153"
   ]
  },
  {
   "cell_type": "markdown",
   "metadata": {
    "ExecuteTime": {
     "end_time": "2020-07-29T19:38:03.354418Z",
     "start_time": "2020-07-29T19:38:03.349550Z"
    }
   },
   "source": [
    "<h3>Create and tune the models brainstormed in part 2</h3>"
   ]
  },
  {
   "cell_type": "code",
   "execution_count": 8,
   "metadata": {
    "ExecuteTime": {
     "end_time": "2020-07-30T16:03:06.089779Z",
     "start_time": "2020-07-30T16:03:06.085678Z"
    }
   },
   "outputs": [],
   "source": [
    "# Create Linear Regression Model\n",
    "lr = LinearRegression()\n",
    "\n",
    "# Create linear regression model with pipeline\n",
    "# Standardizing data and dimensionality reduction may improve results\n",
    "lr_std = make_pipeline(StandardScaler(), PCA(), LinearRegression())\n"
   ]
  },
  {
   "cell_type": "markdown",
   "metadata": {},
   "source": [
    "The following parameters for the random forest regression model will be optimized:\n",
    "- max_depth\n",
    "- n_estimators\n",
    "- max_features\n"
   ]
  },
  {
   "cell_type": "raw",
   "metadata": {
    "ExecuteTime": {
     "end_time": "2020-07-29T21:09:13.750575Z",
     "start_time": "2020-07-29T19:38:20.145485Z"
    }
   },
   "source": [
    "#from sklearn.model_selection import GridSearchCV\n",
    "\n",
    "# Use grid search to optimize parameters for Random Forest Regressor\n",
    "#rfr = RandomForestRegressor()\n",
    "\n",
    "#param_grid = {\n",
    "#    'n_estimators': [50, 100, 150, 200],\n",
    "#    'max_depth': [5, 10, 25, 50],\n",
    "#    'max_features': ['auto', \"sqrt\", 'log2']\n",
    "#    }\n",
    "\n",
    "#grid_rfr = GridSearchCV(estimator = rfr, param_grid = param_grid, cv = 3)\n",
    "\n",
    "#rfr_model = grid_rfr.fit(training_feat_df, target_df)\n",
    "\n",
    "#print(rfr_model.best_estimator_.get_params())"
   ]
  },
  {
   "cell_type": "code",
   "execution_count": 9,
   "metadata": {
    "ExecuteTime": {
     "end_time": "2020-07-30T16:03:09.240181Z",
     "start_time": "2020-07-30T16:03:09.236249Z"
    }
   },
   "outputs": [],
   "source": [
    "# Create Random Forest Regression Model with pre-tuned parameters\n",
    "rf = RandomForestRegressor(n_estimators=150, \n",
    "                           n_jobs=2, \n",
    "                           max_depth=25, \n",
    "                           max_features=30, \n",
    "                           verbose = 1)"
   ]
  },
  {
   "cell_type": "markdown",
   "metadata": {},
   "source": [
    "The following parameter for gradient boosting will be optimized:\n",
    "- max_depth\n",
    "- n_estimators"
   ]
  },
  {
   "cell_type": "raw",
   "metadata": {},
   "source": [
    "# Create grid search object\n",
    "#gbr = GradientBoostingRegression()\n",
    "\n",
    "#param_grid = {\n",
    "#    'n_estimators': [50, 100, 150, 200],\n",
    "#    'max_depth': [5, 10, 25, 50],\n",
    "#    }\n",
    "\n",
    "#grid_gbr = GridSearchCV(estimator = gbr, param_grid = param_grid, cv = 3)\n",
    "\n",
    "#gbr_model = grid_gbr.fit(training_feat_df, clean_target_df)\n",
    "\n",
    "#print(gbr_model.best_estimator_.get_params())"
   ]
  },
  {
   "cell_type": "code",
   "execution_count": 10,
   "metadata": {
    "ExecuteTime": {
     "end_time": "2020-07-30T16:03:23.334780Z",
     "start_time": "2020-07-30T16:03:23.331577Z"
    }
   },
   "outputs": [],
   "source": [
    "# Create Gradient Boosted Regression Model with pre-tuned parameters\n",
    "gbr = GradientBoostingRegressor(n_estimators=150, \n",
    "                                 max_depth=5, \n",
    "                                 loss='ls', \n",
    "                                 verbose=1)"
   ]
  },
  {
   "cell_type": "code",
   "execution_count": 11,
   "metadata": {
    "ExecuteTime": {
     "end_time": "2020-07-30T16:41:44.384064Z",
     "start_time": "2020-07-30T16:03:32.963422Z"
    },
    "code_folding": []
   },
   "outputs": [
    {
     "name": "stdout",
     "output_type": "stream",
     "text": [
      "Cross validation results:\n",
      "Model: \n",
      " LinearRegression(copy_X=True, fit_intercept=True, n_jobs=None, normalize=False)\n",
      "Average MSE:\n",
      " 384.4551140184655\n",
      "Standard deviation during CV:\n",
      " 0.35300729605740405\n",
      "Model: \n",
      " Pipeline(memory=None,\n",
      "         steps=[('standardscaler',\n",
      "                 StandardScaler(copy=True, with_mean=True, with_std=True)),\n",
      "                ('pca',\n",
      "                 PCA(copy=True, iterated_power='auto', n_components=None,\n",
      "                     random_state=None, svd_solver='auto', tol=0.0,\n",
      "                     whiten=False)),\n",
      "                ('linearregression',\n",
      "                 LinearRegression(copy_X=True, fit_intercept=True, n_jobs=None,\n",
      "                                  normalize=False))],\n",
      "         verbose=False)\n",
      "Average MSE:\n",
      " 384.4812905291421\n",
      "Standard deviation during CV:\n",
      " 0.3398725167723061\n"
     ]
    },
    {
     "name": "stderr",
     "output_type": "stream",
     "text": [
      "[Parallel(n_jobs=2)]: Using backend LokyBackend with 2 concurrent workers.\n",
      "[Parallel(n_jobs=2)]: Done  46 tasks      | elapsed:  1.7min\n",
      "[Parallel(n_jobs=2)]: Done 150 out of 150 | elapsed:  5.3min finished\n",
      "[Parallel(n_jobs=2)]: Using backend ThreadingBackend with 2 concurrent workers.\n",
      "[Parallel(n_jobs=2)]: Done  46 tasks      | elapsed:    3.0s\n",
      "[Parallel(n_jobs=2)]: Done 150 out of 150 | elapsed:    9.9s finished\n",
      "[Parallel(n_jobs=2)]: Using backend LokyBackend with 2 concurrent workers.\n",
      "[Parallel(n_jobs=2)]: Done  46 tasks      | elapsed:  1.7min\n",
      "[Parallel(n_jobs=2)]: Done 150 out of 150 | elapsed:  5.4min finished\n",
      "[Parallel(n_jobs=2)]: Using backend ThreadingBackend with 2 concurrent workers.\n",
      "[Parallel(n_jobs=2)]: Done  46 tasks      | elapsed:    3.3s\n",
      "[Parallel(n_jobs=2)]: Done 150 out of 150 | elapsed:   10.7s finished\n",
      "[Parallel(n_jobs=2)]: Using backend LokyBackend with 2 concurrent workers.\n",
      "[Parallel(n_jobs=2)]: Done  46 tasks      | elapsed:  1.6min\n",
      "[Parallel(n_jobs=2)]: Done 150 out of 150 | elapsed:  5.3min finished\n",
      "[Parallel(n_jobs=2)]: Using backend ThreadingBackend with 2 concurrent workers.\n",
      "[Parallel(n_jobs=2)]: Done  46 tasks      | elapsed:    3.0s\n",
      "[Parallel(n_jobs=2)]: Done 150 out of 150 | elapsed:   10.0s finished\n"
     ]
    },
    {
     "name": "stdout",
     "output_type": "stream",
     "text": [
      "Model: \n",
      " RandomForestRegressor(bootstrap=True, ccp_alpha=0.0, criterion='mse',\n",
      "                      max_depth=25, max_features=30, max_leaf_nodes=None,\n",
      "                      max_samples=None, min_impurity_decrease=0.0,\n",
      "                      min_impurity_split=None, min_samples_leaf=1,\n",
      "                      min_samples_split=2, min_weight_fraction_leaf=0.0,\n",
      "                      n_estimators=150, n_jobs=2, oob_score=False,\n",
      "                      random_state=None, verbose=1, warm_start=False)\n",
      "Average MSE:\n",
      " 374.2425271594105\n",
      "Standard deviation during CV:\n",
      " 0.35460355073733363\n",
      "      Iter       Train Loss   Remaining Time \n",
      "         1        1349.3547            6.92m\n",
      "         2        1228.1087            6.87m\n",
      "         3        1128.0105            6.83m\n",
      "         4        1043.7784            6.79m\n",
      "         5         973.0861            6.74m\n",
      "         6         913.6354            6.69m\n",
      "         7         861.0923            6.65m\n",
      "         8         813.2082            6.61m\n",
      "         9         772.4587            6.57m\n",
      "        10         734.5793            6.52m\n",
      "        20         520.3985            5.97m\n",
      "        30         434.0617            5.45m\n",
      "        40         397.2091            4.97m\n",
      "        50         379.9965            4.51m\n",
      "        60         370.1552            4.08m\n",
      "        70         364.6698            3.62m\n",
      "        80         360.9637            3.16m\n",
      "        90         358.9215            2.70m\n",
      "       100         357.2695            2.26m\n",
      "      Iter       Train Loss   Remaining Time \n",
      "         1        1353.6233            6.90m\n",
      "         2        1231.9608            6.84m\n",
      "         3        1131.5635            6.78m\n",
      "         4        1047.3599            6.72m\n",
      "         5         975.9356            6.67m\n",
      "         6         916.1888            6.63m\n",
      "         7         863.9624            6.58m\n",
      "         8         816.1326            6.54m\n",
      "         9         773.5266            6.49m\n",
      "        10         737.3471            6.46m\n",
      "        20         520.8216            5.99m\n",
      "        30         435.3873            5.52m\n",
      "        40         398.6564            5.10m\n",
      "        50         379.4829            4.62m\n",
      "        60         370.2256            4.14m\n",
      "        70         364.5657            3.66m\n",
      "        80         360.9415            3.20m\n",
      "        90         358.6214            2.74m\n",
      "       100         357.2761            2.28m\n",
      "      Iter       Train Loss   Remaining Time \n",
      "         1        1350.8616            6.83m\n",
      "         2        1229.6144            6.80m\n",
      "         3        1129.6244            6.76m\n",
      "         4        1044.9676            6.73m\n",
      "         5         974.4215            6.68m\n",
      "         6         913.3807            6.63m\n",
      "         7         861.6786            6.57m\n",
      "         8         814.2963            6.53m\n",
      "         9         772.5511            6.49m\n",
      "        10         736.4041            6.45m\n",
      "        20         520.4330            6.05m\n",
      "        30         434.4007            5.58m\n",
      "        40         396.9639            5.08m\n",
      "        50         378.8223            4.60m\n",
      "        60         369.9351            4.13m\n",
      "        70         364.3466            3.68m\n",
      "        80         361.2680            3.20m\n",
      "        90         359.1581            2.74m\n",
      "       100         357.8459            2.28m\n",
      "Model: \n",
      " GradientBoostingRegressor(alpha=0.9, ccp_alpha=0.0, criterion='friedman_mse',\n",
      "                          init=None, learning_rate=0.1, loss='ls', max_depth=5,\n",
      "                          max_features=None, max_leaf_nodes=None,\n",
      "                          min_impurity_decrease=0.0, min_impurity_split=None,\n",
      "                          min_samples_leaf=1, min_samples_split=2,\n",
      "                          min_weight_fraction_leaf=0.0, n_estimators=150,\n",
      "                          n_iter_no_change=None, presort='deprecated',\n",
      "                          random_state=None, subsample=1.0, tol=0.0001,\n",
      "                          validation_fraction=0.1, verbose=1, warm_start=False)\n",
      "Average MSE:\n",
      " 357.00317246581\n",
      "Standard deviation during CV:\n",
      " 0.24915213011767917\n"
     ]
    }
   ],
   "source": [
    "# Use cross val score to evaluate MSE of each model and print a summary for each one\n",
    "\n",
    "models = [lr, lr_std, rf, gbr]\n",
    "mean_mse = {}\n",
    "cv_std = {}\n",
    "res = {}\n",
    "\n",
    "def model_score(model, training_feat_df, clean_target_df, mean_mse, cv_std):\n",
    "    neg_mse = cross_val_score(model, training_feat_df, clean_target_df, scoring = 'neg_mean_squared_error', cv = 3)\n",
    "    mean_mse[model] = -1.0*np.mean(neg_mse)\n",
    "    cv_std[model] = np.std(neg_mse)\n",
    "\n",
    "def print_summary(model, mean_mse, cv_std):\n",
    "    print('Model: \\n', model)\n",
    "    print('Average MSE:\\n', mean_mse[model])\n",
    "    print('Standard deviation during CV:\\n', cv_std[model])\n",
    "\n",
    "print(\"Cross validation results:\")\n",
    "for model in models:\n",
    "    model_score(model, training_feat_df, target_df, mean_mse, cv_std)\n",
    "    print_summary(model, mean_mse, cv_std)"
   ]
  },
  {
   "cell_type": "markdown",
   "metadata": {},
   "source": [
    "### 9 : Select best model"
   ]
  },
  {
   "cell_type": "code",
   "execution_count": 12,
   "metadata": {
    "ExecuteTime": {
     "end_time": "2020-07-30T17:47:58.009346Z",
     "start_time": "2020-07-30T17:47:58.003091Z"
    }
   },
   "outputs": [
    {
     "name": "stdout",
     "output_type": "stream",
     "text": [
      "The model with the lowest MSE is:\n",
      " GradientBoostingRegressor(alpha=0.9, ccp_alpha=0.0, criterion='friedman_mse',\n",
      "                          init=None, learning_rate=0.1, loss='ls', max_depth=5,\n",
      "                          max_features=None, max_leaf_nodes=None,\n",
      "                          min_impurity_decrease=0.0, min_impurity_split=None,\n",
      "                          min_samples_leaf=1, min_samples_split=2,\n",
      "                          min_weight_fraction_leaf=0.0, n_estimators=150,\n",
      "                          n_iter_no_change=None, presort='deprecated',\n",
      "                          random_state=None, subsample=1.0, tol=0.0001,\n",
      "                          validation_fraction=0.1, verbose=1, warm_start=False)\n"
     ]
    }
   ],
   "source": [
    "#select the model with the lowest MSE\n",
    "model = min(mean_mse, key= mean_mse.get)\n",
    "\n",
    "print(\"The model with the lowest MSE is:\\n\", model)"
   ]
  },
  {
   "cell_type": "code",
   "execution_count": 14,
   "metadata": {
    "ExecuteTime": {
     "end_time": "2020-07-30T17:49:04.381875Z",
     "start_time": "2020-07-30T17:49:04.360802Z"
    }
   },
   "outputs": [
    {
     "data": {
      "text/html": [
       "<div>\n",
       "<style scoped>\n",
       "    .dataframe tbody tr th:only-of-type {\n",
       "        vertical-align: middle;\n",
       "    }\n",
       "\n",
       "    .dataframe tbody tr th {\n",
       "        vertical-align: top;\n",
       "    }\n",
       "\n",
       "    .dataframe thead th {\n",
       "        text-align: right;\n",
       "    }\n",
       "</style>\n",
       "<table border=\"1\" class=\"dataframe\">\n",
       "  <thead>\n",
       "    <tr style=\"text-align: right;\">\n",
       "      <th></th>\n",
       "      <th>companyId_COMP0</th>\n",
       "      <th>companyId_COMP1</th>\n",
       "      <th>companyId_COMP10</th>\n",
       "      <th>companyId_COMP11</th>\n",
       "      <th>companyId_COMP12</th>\n",
       "      <th>companyId_COMP13</th>\n",
       "      <th>companyId_COMP14</th>\n",
       "      <th>companyId_COMP15</th>\n",
       "      <th>companyId_COMP16</th>\n",
       "      <th>companyId_COMP17</th>\n",
       "      <th>...</th>\n",
       "      <th>major_PHYSICS</th>\n",
       "      <th>industry_AUTO</th>\n",
       "      <th>industry_EDUCATION</th>\n",
       "      <th>industry_FINANCE</th>\n",
       "      <th>industry_HEALTH</th>\n",
       "      <th>industry_OIL</th>\n",
       "      <th>industry_SERVICE</th>\n",
       "      <th>industry_WEB</th>\n",
       "      <th>yearsExperience</th>\n",
       "      <th>milesFromMetropolis</th>\n",
       "    </tr>\n",
       "  </thead>\n",
       "  <tbody>\n",
       "    <tr>\n",
       "      <th>0</th>\n",
       "      <td>0</td>\n",
       "      <td>0</td>\n",
       "      <td>0</td>\n",
       "      <td>0</td>\n",
       "      <td>0</td>\n",
       "      <td>0</td>\n",
       "      <td>0</td>\n",
       "      <td>0</td>\n",
       "      <td>0</td>\n",
       "      <td>0</td>\n",
       "      <td>...</td>\n",
       "      <td>0</td>\n",
       "      <td>0</td>\n",
       "      <td>0</td>\n",
       "      <td>0</td>\n",
       "      <td>1</td>\n",
       "      <td>0</td>\n",
       "      <td>0</td>\n",
       "      <td>0</td>\n",
       "      <td>22</td>\n",
       "      <td>73</td>\n",
       "    </tr>\n",
       "    <tr>\n",
       "      <th>1</th>\n",
       "      <td>0</td>\n",
       "      <td>0</td>\n",
       "      <td>0</td>\n",
       "      <td>0</td>\n",
       "      <td>0</td>\n",
       "      <td>1</td>\n",
       "      <td>0</td>\n",
       "      <td>0</td>\n",
       "      <td>0</td>\n",
       "      <td>0</td>\n",
       "      <td>...</td>\n",
       "      <td>0</td>\n",
       "      <td>1</td>\n",
       "      <td>0</td>\n",
       "      <td>0</td>\n",
       "      <td>0</td>\n",
       "      <td>0</td>\n",
       "      <td>0</td>\n",
       "      <td>0</td>\n",
       "      <td>20</td>\n",
       "      <td>47</td>\n",
       "    </tr>\n",
       "    <tr>\n",
       "      <th>2</th>\n",
       "      <td>0</td>\n",
       "      <td>0</td>\n",
       "      <td>1</td>\n",
       "      <td>0</td>\n",
       "      <td>0</td>\n",
       "      <td>0</td>\n",
       "      <td>0</td>\n",
       "      <td>0</td>\n",
       "      <td>0</td>\n",
       "      <td>0</td>\n",
       "      <td>...</td>\n",
       "      <td>0</td>\n",
       "      <td>0</td>\n",
       "      <td>0</td>\n",
       "      <td>0</td>\n",
       "      <td>1</td>\n",
       "      <td>0</td>\n",
       "      <td>0</td>\n",
       "      <td>0</td>\n",
       "      <td>17</td>\n",
       "      <td>9</td>\n",
       "    </tr>\n",
       "    <tr>\n",
       "      <th>3</th>\n",
       "      <td>0</td>\n",
       "      <td>0</td>\n",
       "      <td>0</td>\n",
       "      <td>0</td>\n",
       "      <td>0</td>\n",
       "      <td>0</td>\n",
       "      <td>0</td>\n",
       "      <td>0</td>\n",
       "      <td>0</td>\n",
       "      <td>0</td>\n",
       "      <td>...</td>\n",
       "      <td>0</td>\n",
       "      <td>0</td>\n",
       "      <td>0</td>\n",
       "      <td>0</td>\n",
       "      <td>0</td>\n",
       "      <td>1</td>\n",
       "      <td>0</td>\n",
       "      <td>0</td>\n",
       "      <td>14</td>\n",
       "      <td>96</td>\n",
       "    </tr>\n",
       "    <tr>\n",
       "      <th>4</th>\n",
       "      <td>0</td>\n",
       "      <td>0</td>\n",
       "      <td>0</td>\n",
       "      <td>0</td>\n",
       "      <td>0</td>\n",
       "      <td>0</td>\n",
       "      <td>0</td>\n",
       "      <td>0</td>\n",
       "      <td>0</td>\n",
       "      <td>0</td>\n",
       "      <td>...</td>\n",
       "      <td>0</td>\n",
       "      <td>0</td>\n",
       "      <td>0</td>\n",
       "      <td>0</td>\n",
       "      <td>0</td>\n",
       "      <td>1</td>\n",
       "      <td>0</td>\n",
       "      <td>0</td>\n",
       "      <td>10</td>\n",
       "      <td>44</td>\n",
       "    </tr>\n",
       "  </tbody>\n",
       "</table>\n",
       "<p>5 rows × 94 columns</p>\n",
       "</div>"
      ],
      "text/plain": [
       "   companyId_COMP0  companyId_COMP1  companyId_COMP10  companyId_COMP11  \\\n",
       "0                0                0                 0                 0   \n",
       "1                0                0                 0                 0   \n",
       "2                0                0                 1                 0   \n",
       "3                0                0                 0                 0   \n",
       "4                0                0                 0                 0   \n",
       "\n",
       "   companyId_COMP12  companyId_COMP13  companyId_COMP14  companyId_COMP15  \\\n",
       "0                 0                 0                 0                 0   \n",
       "1                 0                 1                 0                 0   \n",
       "2                 0                 0                 0                 0   \n",
       "3                 0                 0                 0                 0   \n",
       "4                 0                 0                 0                 0   \n",
       "\n",
       "   companyId_COMP16  companyId_COMP17  ...  major_PHYSICS  industry_AUTO  \\\n",
       "0                 0                 0  ...              0              0   \n",
       "1                 0                 0  ...              0              1   \n",
       "2                 0                 0  ...              0              0   \n",
       "3                 0                 0  ...              0              0   \n",
       "4                 0                 0  ...              0              0   \n",
       "\n",
       "   industry_EDUCATION  industry_FINANCE  industry_HEALTH  industry_OIL  \\\n",
       "0                   0                 0                1             0   \n",
       "1                   0                 0                0             0   \n",
       "2                   0                 0                1             0   \n",
       "3                   0                 0                0             1   \n",
       "4                   0                 0                0             1   \n",
       "\n",
       "   industry_SERVICE  industry_WEB  yearsExperience  milesFromMetropolis  \n",
       "0                 0             0               22                   73  \n",
       "1                 0             0               20                   47  \n",
       "2                 0             0               17                    9  \n",
       "3                 0             0               14                   96  \n",
       "4                 0             0               10                   44  \n",
       "\n",
       "[5 rows x 94 columns]"
      ]
     },
     "execution_count": 14,
     "metadata": {},
     "output_type": "execute_result"
    }
   ],
   "source": [
    "test_feat_df.head()"
   ]
  },
  {
   "cell_type": "code",
   "execution_count": 19,
   "metadata": {
    "ExecuteTime": {
     "end_time": "2020-07-30T18:09:33.294536Z",
     "start_time": "2020-07-30T17:58:03.768946Z"
    }
   },
   "outputs": [
    {
     "name": "stdout",
     "output_type": "stream",
     "text": [
      "      Iter       Train Loss   Remaining Time \n",
      "         1        1351.2830           10.78m\n",
      "         2        1229.8976           10.76m\n",
      "         3        1129.7084           10.69m\n",
      "         4        1045.3752           10.60m\n",
      "         5         974.4283           10.53m\n",
      "         6         914.9446           10.46m\n",
      "         7         862.6779           10.37m\n",
      "         8         814.8460           10.28m\n",
      "         9         772.9795           10.25m\n",
      "        10         737.2014           10.20m\n",
      "        20         519.7989            9.83m\n",
      "        30         434.7553            8.95m\n",
      "        40         397.1956            8.20m\n",
      "        50         379.5808            7.55m\n",
      "        60         370.1295            6.84m\n",
      "        70         364.8456            6.15m\n",
      "        80         361.7159            5.37m\n",
      "        90         359.4911            4.59m\n",
      "       100         357.9892            3.82m\n"
     ]
    }
   ],
   "source": [
    "# use model with lowest mse to train data and make prediction on test data\n",
    "model.fit(training_feat_df, target_df)\n",
    "predictions = model.predict(test_feat_df)"
   ]
  },
  {
   "cell_type": "code",
   "execution_count": 21,
   "metadata": {
    "ExecuteTime": {
     "end_time": "2020-07-30T18:46:33.156692Z",
     "start_time": "2020-07-30T18:46:33.148655Z"
    }
   },
   "outputs": [
    {
     "data": {
      "text/plain": [
       "array([0.00000000e+00, 4.02498209e-06, 3.48089578e-06, 3.29933573e-06,\n",
       "       3.82848017e-06, 8.28642735e-06, 1.72503893e-06, 4.32941832e-06,\n",
       "       2.54071377e-06, 4.14408197e-06, 2.98091253e-06, 1.97406856e-06,\n",
       "       3.09323626e-06, 4.32680713e-06, 5.29502998e-06, 2.35700845e-06,\n",
       "       2.01408828e-06, 6.00154690e-06, 0.00000000e+00, 5.05000976e-06,\n",
       "       2.01442979e-06, 3.19401067e-06, 1.04105343e-06, 7.45805377e-07,\n",
       "       5.56806650e-06, 3.19476813e-06, 2.57861295e-06, 2.31183006e-06,\n",
       "       5.95455060e-06, 1.90052485e-06, 8.97728039e-06, 1.04682606e-06,\n",
       "       4.67929210e-06, 2.14111132e-06, 3.14154274e-06, 3.73408887e-07,\n",
       "       1.27195211e-06, 4.85859804e-06, 1.14258913e-06, 4.67091047e-06,\n",
       "       1.03207400e-06, 7.84342966e-06, 3.59388682e-06, 4.79407165e-06,\n",
       "       1.79624380e-06, 1.04010189e-06, 8.15632597e-07, 9.32754949e-07,\n",
       "       2.66407058e-06, 4.06753953e-06, 1.76178044e-06, 3.21519996e-06,\n",
       "       5.77141077e-06, 3.58640523e-06, 2.63070183e-06, 2.70405927e-06,\n",
       "       2.74995087e-06, 4.89285268e-06, 4.96677913e-06, 5.38779554e-06,\n",
       "       1.92881444e-07, 1.63365692e-06, 7.50113488e-06, 4.84936058e-02,\n",
       "       2.33449688e-02, 2.05937598e-02, 2.18284903e-01, 7.47635323e-02,\n",
       "       9.69933798e-03, 4.02190418e-02, 4.20911829e-03, 2.85013741e-04,\n",
       "       1.40334760e-02, 9.38249826e-04, 4.33833130e-03, 6.51540667e-03,\n",
       "       6.75141043e-04, 4.24757548e-03, 6.69885444e-04, 7.29275902e-05,\n",
       "       5.83906673e-03, 2.30147146e-03, 1.32133833e-03, 8.56254164e-02,\n",
       "       3.28664021e-04, 5.36287547e-03, 2.85686603e-02, 2.89791725e-02,\n",
       "       2.64974918e-03, 2.52338938e-02, 1.58283655e-02, 9.88149068e-03,\n",
       "       1.86719186e-01, 1.29771242e-01])"
      ]
     },
     "execution_count": 21,
     "metadata": {},
     "output_type": "execute_result"
    }
   ],
   "source": [
    "model.feature_importances_"
   ]
  },
  {
   "cell_type": "code",
   "execution_count": 23,
   "metadata": {
    "ExecuteTime": {
     "end_time": "2020-07-30T18:49:11.771650Z",
     "start_time": "2020-07-30T18:49:11.766820Z"
    }
   },
   "outputs": [
    {
     "data": {
      "text/plain": [
       "Index(['companyId_COMP0', 'companyId_COMP1', 'companyId_COMP10',\n",
       "       'companyId_COMP11', 'companyId_COMP12', 'companyId_COMP13',\n",
       "       'companyId_COMP14', 'companyId_COMP15', 'companyId_COMP16',\n",
       "       'companyId_COMP17', 'companyId_COMP18', 'companyId_COMP19',\n",
       "       'companyId_COMP2', 'companyId_COMP20', 'companyId_COMP21',\n",
       "       'companyId_COMP22', 'companyId_COMP23', 'companyId_COMP24',\n",
       "       'companyId_COMP25', 'companyId_COMP26', 'companyId_COMP27',\n",
       "       'companyId_COMP28', 'companyId_COMP29', 'companyId_COMP3',\n",
       "       'companyId_COMP30', 'companyId_COMP31', 'companyId_COMP32',\n",
       "       'companyId_COMP33', 'companyId_COMP34', 'companyId_COMP35',\n",
       "       'companyId_COMP36', 'companyId_COMP37', 'companyId_COMP38',\n",
       "       'companyId_COMP39', 'companyId_COMP4', 'companyId_COMP40',\n",
       "       'companyId_COMP41', 'companyId_COMP42', 'companyId_COMP43',\n",
       "       'companyId_COMP44', 'companyId_COMP45', 'companyId_COMP46',\n",
       "       'companyId_COMP47', 'companyId_COMP48', 'companyId_COMP49',\n",
       "       'companyId_COMP5', 'companyId_COMP50', 'companyId_COMP51',\n",
       "       'companyId_COMP52', 'companyId_COMP53', 'companyId_COMP54',\n",
       "       'companyId_COMP55', 'companyId_COMP56', 'companyId_COMP57',\n",
       "       'companyId_COMP58', 'companyId_COMP59', 'companyId_COMP6',\n",
       "       'companyId_COMP60', 'companyId_COMP61', 'companyId_COMP62',\n",
       "       'companyId_COMP7', 'companyId_COMP8', 'companyId_COMP9', 'jobType_CEO',\n",
       "       'jobType_CFO', 'jobType_CTO', 'jobType_JANITOR', 'jobType_JUNIOR',\n",
       "       'jobType_MANAGER', 'jobType_SENIOR', 'jobType_VICE_PRESIDENT',\n",
       "       'degree_BACHELORS', 'degree_DOCTORAL', 'degree_HIGH_SCHOOL',\n",
       "       'degree_MASTERS', 'degree_NONE', 'major_BIOLOGY', 'major_BUSINESS',\n",
       "       'major_CHEMISTRY', 'major_COMPSCI', 'major_ENGINEERING',\n",
       "       'major_LITERATURE', 'major_MATH', 'major_NONE', 'major_PHYSICS',\n",
       "       'industry_AUTO', 'industry_EDUCATION', 'industry_FINANCE',\n",
       "       'industry_HEALTH', 'industry_OIL', 'industry_SERVICE', 'industry_WEB',\n",
       "       'yearsExperience', 'milesFromMetropolis'],\n",
       "      dtype='object')"
      ]
     },
     "execution_count": 23,
     "metadata": {},
     "output_type": "execute_result"
    }
   ],
   "source": [
    "test_feat_df.columns"
   ]
  },
  {
   "cell_type": "code",
   "execution_count": 24,
   "metadata": {
    "ExecuteTime": {
     "end_time": "2020-07-30T18:49:20.150013Z",
     "start_time": "2020-07-30T18:49:20.141850Z"
    }
   },
   "outputs": [],
   "source": [
    "# access feature importance of model with lowest mse\n",
    "feature_importance = pd.DataFrame({'feature': test_feat_df.columns, 'importance': model.feature_importances_})\n",
    "feature_importance.sort_values(by='importance', ascending = False, inplace = True)\n",
    "\n",
    "# set index to 'feature'\n",
    "feature_importance.set_index('feature', inplace = True, drop = True)"
   ]
  },
  {
   "cell_type": "code",
   "execution_count": 25,
   "metadata": {
    "ExecuteTime": {
     "end_time": "2020-07-30T18:49:29.717005Z",
     "start_time": "2020-07-30T18:49:27.436335Z"
    }
   },
   "outputs": [],
   "source": [
    "# save information to file\n",
    "with open('model.txt', 'w') as file:\n",
    "    file.write(str(model))\n",
    "    \n",
    "feature_importance.to_csv('feature_importance.csv')\n",
    "\n",
    "# Save predictions to file\n",
    "np.savetxt('predictions.csv', predictions, delimiter=',')"
   ]
  },
  {
   "cell_type": "code",
   "execution_count": 31,
   "metadata": {
    "ExecuteTime": {
     "end_time": "2020-07-30T19:06:26.330625Z",
     "start_time": "2020-07-30T19:06:25.928573Z"
    }
   },
   "outputs": [
    {
     "data": {
      "image/png": "[encoded data removed]",
      "text/plain": [
       "<Figure size 1440x720 with 1 Axes>"
      ]
     },
     "metadata": {
      "needs_background": "light"
     },
     "output_type": "display_data"
    }
   ],
   "source": [
    "# Plot feature importance\n",
    "feature_importance[:20].plot.bar(figsize=(20, 10))\n",
    "plt.xticks(fontsize = 14)\n",
    "plt.show()"
   ]
  },
  {
   "cell_type": "code",
   "execution_count": 33,
   "metadata": {
    "ExecuteTime": {
     "end_time": "2020-07-30T19:50:43.182664Z",
     "start_time": "2020-07-30T19:50:43.175280Z"
    },
    "scrolled": true
   },
   "outputs": [
    {
     "data": {
      "text/html": [
       "<div>\n",
       "<style scoped>\n",
       "    .dataframe tbody tr th:only-of-type {\n",
       "        vertical-align: middle;\n",
       "    }\n",
       "\n",
       "    .dataframe tbody tr th {\n",
       "        vertical-align: top;\n",
       "    }\n",
       "\n",
       "    .dataframe thead th {\n",
       "        text-align: right;\n",
       "    }\n",
       "</style>\n",
       "<table border=\"1\" class=\"dataframe\">\n",
       "  <thead>\n",
       "    <tr style=\"text-align: right;\">\n",
       "      <th></th>\n",
       "      <th>importance</th>\n",
       "    </tr>\n",
       "    <tr>\n",
       "      <th>feature</th>\n",
       "      <th></th>\n",
       "    </tr>\n",
       "  </thead>\n",
       "  <tbody>\n",
       "    <tr>\n",
       "      <th>jobType_JANITOR</th>\n",
       "      <td>0.218285</td>\n",
       "    </tr>\n",
       "    <tr>\n",
       "      <th>yearsExperience</th>\n",
       "      <td>0.186719</td>\n",
       "    </tr>\n",
       "    <tr>\n",
       "      <th>milesFromMetropolis</th>\n",
       "      <td>0.129771</td>\n",
       "    </tr>\n",
       "    <tr>\n",
       "      <th>major_NONE</th>\n",
       "      <td>0.085625</td>\n",
       "    </tr>\n",
       "    <tr>\n",
       "      <th>jobType_JUNIOR</th>\n",
       "      <td>0.074764</td>\n",
       "    </tr>\n",
       "    <tr>\n",
       "      <th>jobType_CEO</th>\n",
       "      <td>0.048494</td>\n",
       "    </tr>\n",
       "    <tr>\n",
       "      <th>jobType_SENIOR</th>\n",
       "      <td>0.040219</td>\n",
       "    </tr>\n",
       "    <tr>\n",
       "      <th>industry_FINANCE</th>\n",
       "      <td>0.028979</td>\n",
       "    </tr>\n",
       "    <tr>\n",
       "      <th>industry_EDUCATION</th>\n",
       "      <td>0.028569</td>\n",
       "    </tr>\n",
       "    <tr>\n",
       "      <th>industry_OIL</th>\n",
       "      <td>0.025234</td>\n",
       "    </tr>\n",
       "  </tbody>\n",
       "</table>\n",
       "</div>"
      ],
      "text/plain": [
       "                     importance\n",
       "feature                        \n",
       "jobType_JANITOR        0.218285\n",
       "yearsExperience        0.186719\n",
       "milesFromMetropolis    0.129771\n",
       "major_NONE             0.085625\n",
       "jobType_JUNIOR         0.074764\n",
       "jobType_CEO            0.048494\n",
       "jobType_SENIOR         0.040219\n",
       "industry_FINANCE       0.028979\n",
       "industry_EDUCATION     0.028569\n",
       "industry_OIL           0.025234"
      ]
     },
     "execution_count": 33,
     "metadata": {},
     "output_type": "execute_result"
    }
   ],
   "source": [
    "feature_importance.head(10)"
   ]
  },
  {
   "cell_type": "code",
   "execution_count": 34,
   "metadata": {
    "ExecuteTime": {
     "end_time": "2020-07-30T19:52:58.627804Z",
     "start_time": "2020-07-30T19:52:58.495691Z"
    }
   },
   "outputs": [
    {
     "name": "stdout",
     "output_type": "stream",
     "text": [
      "1.112319470299438109e+02\r\n",
      "9.358076805149475774e+01\r\n",
      "1.789313055117166016e+02\r\n",
      "1.043686516871983514e+02\r\n",
      "1.170745237113808486e+02\r\n",
      "1.507164339871137599e+02\r\n",
      "9.642931186092526730e+01\r\n",
      "1.185500271711061941e+02\r\n",
      "1.069490341265069731e+02\r\n",
      "9.826842079587639489e+01\r\n"
     ]
    }
   ],
   "source": [
    "!head predictions.csv"
   ]
  },
  {
   "cell_type": "markdown",
   "metadata": {},
   "source": [
    "## Part 4 - DEPLOY"
   ]
  },
  {
   "cell_type": "markdown",
   "metadata": {},
   "source": [
    "### 10 : Automate pipeline"
   ]
  },
  {
   "cell_type": "code",
   "execution_count": null,
   "metadata": {},
   "outputs": [],
   "source": [
    "#write script that trains model on entire training set, saves model to disk,\n",
    "#and scores the \"test\" dataset"
   ]
  },
  {
   "cell_type": "markdown",
   "metadata": {},
   "source": [
    "### ---- 12 Deploy solution ----"
   ]
  },
  {
   "cell_type": "code",
   "execution_count": 36,
   "metadata": {
    "ExecuteTime": {
     "end_time": "2020-07-30T20:33:22.209483Z",
     "start_time": "2020-07-30T20:33:21.989237Z"
    }
   },
   "outputs": [
    {
     "data": {
      "text/html": [
       "<div>\n",
       "<style scoped>\n",
       "    .dataframe tbody tr th:only-of-type {\n",
       "        vertical-align: middle;\n",
       "    }\n",
       "\n",
       "    .dataframe tbody tr th {\n",
       "        vertical-align: top;\n",
       "    }\n",
       "\n",
       "    .dataframe thead th {\n",
       "        text-align: right;\n",
       "    }\n",
       "</style>\n",
       "<table border=\"1\" class=\"dataframe\">\n",
       "  <thead>\n",
       "    <tr style=\"text-align: right;\">\n",
       "      <th></th>\n",
       "      <th>0</th>\n",
       "    </tr>\n",
       "  </thead>\n",
       "  <tbody>\n",
       "    <tr>\n",
       "      <th>0</th>\n",
       "      <td>111.231947</td>\n",
       "    </tr>\n",
       "    <tr>\n",
       "      <th>1</th>\n",
       "      <td>93.580768</td>\n",
       "    </tr>\n",
       "    <tr>\n",
       "      <th>2</th>\n",
       "      <td>178.931306</td>\n",
       "    </tr>\n",
       "    <tr>\n",
       "      <th>3</th>\n",
       "      <td>104.368652</td>\n",
       "    </tr>\n",
       "    <tr>\n",
       "      <th>4</th>\n",
       "      <td>117.074524</td>\n",
       "    </tr>\n",
       "  </tbody>\n",
       "</table>\n",
       "</div>"
      ],
      "text/plain": [
       "            0\n",
       "0  111.231947\n",
       "1   93.580768\n",
       "2  178.931306\n",
       "3  104.368652\n",
       "4  117.074524"
      ]
     },
     "execution_count": 36,
     "metadata": {},
     "output_type": "execute_result"
    }
   ],
   "source": [
    "#save your prediction to a csv file or optionally save them as a table in a SQL database\n",
    "#additionally, you want to save a visualization and summary of your prediction and feature importances\n",
    "#these visualizations and summaries will be extremely useful to business stakeholders\n",
    "salary_pred_file = 'predictions.csv'\n",
    "salary_pred_df = pd.read_csv(salary_pred_file, header=None)\n",
    "salary_pred_df.head()"
   ]
  },
  {
   "cell_type": "code",
   "execution_count": 39,
   "metadata": {
    "ExecuteTime": {
     "end_time": "2020-07-30T20:38:21.545696Z",
     "start_time": "2020-07-30T20:38:21.530477Z"
    }
   },
   "outputs": [
    {
     "data": {
      "text/html": [
       "<div>\n",
       "<style scoped>\n",
       "    .dataframe tbody tr th:only-of-type {\n",
       "        vertical-align: middle;\n",
       "    }\n",
       "\n",
       "    .dataframe tbody tr th {\n",
       "        vertical-align: top;\n",
       "    }\n",
       "\n",
       "    .dataframe thead th {\n",
       "        text-align: right;\n",
       "    }\n",
       "</style>\n",
       "<table border=\"1\" class=\"dataframe\">\n",
       "  <thead>\n",
       "    <tr style=\"text-align: right;\">\n",
       "      <th></th>\n",
       "      <th>jobId</th>\n",
       "      <th>companyId</th>\n",
       "      <th>jobType</th>\n",
       "      <th>degree</th>\n",
       "      <th>major</th>\n",
       "      <th>industry</th>\n",
       "      <th>yearsExperience</th>\n",
       "      <th>milesFromMetropolis</th>\n",
       "      <th>Predicted Salary</th>\n",
       "    </tr>\n",
       "  </thead>\n",
       "  <tbody>\n",
       "    <tr>\n",
       "      <th>0</th>\n",
       "      <td>JOB1362685407687</td>\n",
       "      <td>COMP33</td>\n",
       "      <td>MANAGER</td>\n",
       "      <td>HIGH_SCHOOL</td>\n",
       "      <td>NONE</td>\n",
       "      <td>HEALTH</td>\n",
       "      <td>22</td>\n",
       "      <td>73</td>\n",
       "      <td>111.231947</td>\n",
       "    </tr>\n",
       "    <tr>\n",
       "      <th>1</th>\n",
       "      <td>JOB1362685407688</td>\n",
       "      <td>COMP13</td>\n",
       "      <td>JUNIOR</td>\n",
       "      <td>NONE</td>\n",
       "      <td>NONE</td>\n",
       "      <td>AUTO</td>\n",
       "      <td>20</td>\n",
       "      <td>47</td>\n",
       "      <td>93.580768</td>\n",
       "    </tr>\n",
       "    <tr>\n",
       "      <th>2</th>\n",
       "      <td>JOB1362685407689</td>\n",
       "      <td>COMP10</td>\n",
       "      <td>CTO</td>\n",
       "      <td>MASTERS</td>\n",
       "      <td>BIOLOGY</td>\n",
       "      <td>HEALTH</td>\n",
       "      <td>17</td>\n",
       "      <td>9</td>\n",
       "      <td>178.931306</td>\n",
       "    </tr>\n",
       "    <tr>\n",
       "      <th>3</th>\n",
       "      <td>JOB1362685407690</td>\n",
       "      <td>COMP21</td>\n",
       "      <td>MANAGER</td>\n",
       "      <td>HIGH_SCHOOL</td>\n",
       "      <td>NONE</td>\n",
       "      <td>OIL</td>\n",
       "      <td>14</td>\n",
       "      <td>96</td>\n",
       "      <td>104.368652</td>\n",
       "    </tr>\n",
       "    <tr>\n",
       "      <th>4</th>\n",
       "      <td>JOB1362685407691</td>\n",
       "      <td>COMP36</td>\n",
       "      <td>JUNIOR</td>\n",
       "      <td>DOCTORAL</td>\n",
       "      <td>BIOLOGY</td>\n",
       "      <td>OIL</td>\n",
       "      <td>10</td>\n",
       "      <td>44</td>\n",
       "      <td>117.074524</td>\n",
       "    </tr>\n",
       "  </tbody>\n",
       "</table>\n",
       "</div>"
      ],
      "text/plain": [
       "              jobId companyId  jobType       degree    major industry  \\\n",
       "0  JOB1362685407687    COMP33  MANAGER  HIGH_SCHOOL     NONE   HEALTH   \n",
       "1  JOB1362685407688    COMP13   JUNIOR         NONE     NONE     AUTO   \n",
       "2  JOB1362685407689    COMP10      CTO      MASTERS  BIOLOGY   HEALTH   \n",
       "3  JOB1362685407690    COMP21  MANAGER  HIGH_SCHOOL     NONE      OIL   \n",
       "4  JOB1362685407691    COMP36   JUNIOR     DOCTORAL  BIOLOGY      OIL   \n",
       "\n",
       "   yearsExperience  milesFromMetropolis  Predicted Salary  \n",
       "0               22                   73        111.231947  \n",
       "1               20                   47         93.580768  \n",
       "2               17                    9        178.931306  \n",
       "3               14                   96        104.368652  \n",
       "4               10                   44        117.074524  "
      ]
     },
     "execution_count": 39,
     "metadata": {},
     "output_type": "execute_result"
    }
   ],
   "source": [
    "# Combine test data with the predicted salaries\n",
    "test_df['Predicted Salary']= salary_pred_df.iloc[:,0]\n",
    "test_df.head()"
   ]
  },
  {
   "cell_type": "code",
   "execution_count": 40,
   "metadata": {
    "ExecuteTime": {
     "end_time": "2020-07-30T20:43:55.097904Z",
     "start_time": "2020-07-30T20:43:48.404113Z"
    }
   },
   "outputs": [],
   "source": [
    "# Save data\n",
    "test_df.to_csv('Test Features with Predicted Salary.csv')"
   ]
  },
  {
   "cell_type": "code",
   "execution_count": null,
   "metadata": {},
   "outputs": [],
   "source": []
  }
 ],
 "metadata": {
  "kernelspec": {
   "display_name": "Python 3",
   "language": "python",
   "name": "python3"
  },
  "language_info": {
   "codemirror_mode": {
    "name": "ipython",
    "version": 3
   },
   "file_extension": ".py",
   "mimetype": "text/x-python",
   "name": "python",
   "nbconvert_exporter": "python",
   "pygments_lexer": "ipython3",
   "version": "3.6.8"
  }
 },
 "nbformat": 4,
 "nbformat_minor": 2
}
