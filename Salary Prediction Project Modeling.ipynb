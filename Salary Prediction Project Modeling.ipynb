{
 "cells": [
  {
   "cell_type": "markdown",
   "metadata": {
    "ExecuteTime": {
     "end_time": "2020-07-28T17:37:05.652846Z",
     "start_time": "2020-07-28T17:37:05.648782Z"
    }
   },
   "source": [
    "<h1>Salary Predictions Based on Job Descriptions</h1>"
   ]
  },
  {
   "cell_type": "markdown",
   "metadata": {},
   "source": [
    "'''This notebook pulls in salary data, builds and tests several predictive models,\n",
    "   and then makes salary predictions on test data using the best model.'''\n",
    "\n",
    "__author__ = \"Jennifer Ma\"\n",
    "__email__ = \"jenniferfmma@gmail.com\""
   ]
  },
  {
   "cell_type": "markdown",
   "metadata": {},
   "source": [
    "<h3>Import packages</h3>"
   ]
  },
  {
   "cell_type": "code",
   "execution_count": 10,
   "metadata": {
    "ExecuteTime": {
     "end_time": "2020-07-28T20:29:18.187138Z",
     "start_time": "2020-07-28T20:29:18.182428Z"
    }
   },
   "outputs": [],
   "source": [
    "import numpy as np\n",
    "import pandas as pd\n",
    "import matplotlib.pyplot as plt\n",
    "import seaborn as sns\n",
    "\n",
    "from sklearn.linear_model import LinearRegression\n",
    "from sklearn.ensemble import RandomForestRegressor, GradientBoostingRegressor\n",
    "from sklearn.preprocessing import StandardScaler\n",
    "# from sklearn.preprocessing import LabelEncoder\n",
    "from sklearn.preprocessing import OneHotEncoder\n",
    "from sklearn.model_selection import cross_val_score\n",
    "from sklearn.metrics import mean_squared_error\n",
    "from sklearn.pipeline import make_pipeline\n",
    "from sklearn.utils import shuffle"
   ]
  },
  {
   "cell_type": "code",
   "execution_count": 11,
   "metadata": {
    "ExecuteTime": {
     "end_time": "2020-07-28T20:29:21.166735Z",
     "start_time": "2020-07-28T20:29:18.189350Z"
    }
   },
   "outputs": [],
   "source": [
    "# Input file\n",
    "training_df_file = 'data/training_df.csv'\n",
    "target_df_file = 'data/train_salaries.csv'\n",
    "test_features_file = 'data/test_features.csv'\n",
    "\n",
    "# Variables\n",
    "cat_cols = ['companyId', 'jobType', 'degree', 'major', 'industry']\n",
    "num_cols = ['yearsExperience', 'milesFromMetropolis']\n",
    "target_col = 'salary'\n",
    "\n",
    "def load_file(filename):\n",
    "    '''load csv to pd dataframe'''\n",
    "    return pd.read_csv(filename)\n",
    "\n",
    "training_df = load_file(training_df_file)\n",
    "target_df = load_file(target_df_file)\n",
    "test_df = load_file(test_features_file)"
   ]
  },
  {
   "cell_type": "code",
   "execution_count": 12,
   "metadata": {
    "ExecuteTime": {
     "end_time": "2020-07-28T20:29:28.540004Z",
     "start_time": "2020-07-28T20:29:28.497661Z"
    }
   },
   "outputs": [
    {
     "data": {
      "text/html": [
       "<div>\n",
       "<style scoped>\n",
       "    .dataframe tbody tr th:only-of-type {\n",
       "        vertical-align: middle;\n",
       "    }\n",
       "\n",
       "    .dataframe tbody tr th {\n",
       "        vertical-align: top;\n",
       "    }\n",
       "\n",
       "    .dataframe thead th {\n",
       "        text-align: right;\n",
       "    }\n",
       "</style>\n",
       "<table border=\"1\" class=\"dataframe\">\n",
       "  <thead>\n",
       "    <tr style=\"text-align: right;\">\n",
       "      <th></th>\n",
       "      <th>jobId</th>\n",
       "      <th>salary</th>\n",
       "    </tr>\n",
       "  </thead>\n",
       "  <tbody>\n",
       "    <tr>\n",
       "      <th>0</th>\n",
       "      <td>JOB1362684407687</td>\n",
       "      <td>130</td>\n",
       "    </tr>\n",
       "    <tr>\n",
       "      <th>1</th>\n",
       "      <td>JOB1362684407688</td>\n",
       "      <td>101</td>\n",
       "    </tr>\n",
       "    <tr>\n",
       "      <th>2</th>\n",
       "      <td>JOB1362684407689</td>\n",
       "      <td>137</td>\n",
       "    </tr>\n",
       "    <tr>\n",
       "      <th>3</th>\n",
       "      <td>JOB1362684407690</td>\n",
       "      <td>142</td>\n",
       "    </tr>\n",
       "    <tr>\n",
       "      <th>4</th>\n",
       "      <td>JOB1362684407691</td>\n",
       "      <td>163</td>\n",
       "    </tr>\n",
       "  </tbody>\n",
       "</table>\n",
       "</div>"
      ],
      "text/plain": [
       "              jobId  salary\n",
       "0  JOB1362684407687     130\n",
       "1  JOB1362684407688     101\n",
       "2  JOB1362684407689     137\n",
       "3  JOB1362684407690     142\n",
       "4  JOB1362684407691     163"
      ]
     },
     "execution_count": 12,
     "metadata": {},
     "output_type": "execute_result"
    }
   ],
   "source": [
    "# Clean up target df by removing salaries <= 0 as seen during EDA\n",
    "clean_target_df = target_df[target_df.salary>0]\n",
    "\n",
    "clean_target_df.head()"
   ]
  },
  {
   "cell_type": "markdown",
   "metadata": {},
   "source": [
    "## Part 3 - DEVELOP MODEL"
   ]
  },
  {
   "cell_type": "markdown",
   "metadata": {},
   "source": [
    "Cycle through creating features, tuning models, and training/validating models (steps 7-9) until our efficacy goal of <360 MSE is reached."
   ]
  },
  {
   "cell_type": "markdown",
   "metadata": {
    "ExecuteTime": {
     "end_time": "2020-07-28T17:32:31.695298Z",
     "start_time": "2020-07-28T17:32:31.692469Z"
    },
    "heading_collapsed": true
   },
   "source": [
    "### 7 : Engineer features"
   ]
  },
  {
   "cell_type": "code",
   "execution_count": null,
   "metadata": {
    "hidden": true
   },
   "outputs": [],
   "source": [
    "#make sure that data is ready for modeling\n",
    "#create any new features needed to potentially enhance model"
   ]
  },
  {
   "cell_type": "code",
   "execution_count": 5,
   "metadata": {
    "ExecuteTime": {
     "end_time": "2020-07-28T19:50:03.349160Z",
     "start_time": "2020-07-28T19:50:00.788754Z"
    },
    "hidden": true,
    "scrolled": true
   },
   "outputs": [
    {
     "data": {
      "text/html": [
       "<div>\n",
       "<style scoped>\n",
       "    .dataframe tbody tr th:only-of-type {\n",
       "        vertical-align: middle;\n",
       "    }\n",
       "\n",
       "    .dataframe tbody tr th {\n",
       "        vertical-align: top;\n",
       "    }\n",
       "\n",
       "    .dataframe thead th {\n",
       "        text-align: right;\n",
       "    }\n",
       "</style>\n",
       "<table border=\"1\" class=\"dataframe\">\n",
       "  <thead>\n",
       "    <tr style=\"text-align: right;\">\n",
       "      <th></th>\n",
       "      <th>companyId_COMP0</th>\n",
       "      <th>companyId_COMP1</th>\n",
       "      <th>companyId_COMP10</th>\n",
       "      <th>companyId_COMP11</th>\n",
       "      <th>companyId_COMP12</th>\n",
       "      <th>companyId_COMP13</th>\n",
       "      <th>companyId_COMP14</th>\n",
       "      <th>companyId_COMP15</th>\n",
       "      <th>companyId_COMP16</th>\n",
       "      <th>companyId_COMP17</th>\n",
       "      <th>...</th>\n",
       "      <th>major_PHYSICS</th>\n",
       "      <th>industry_AUTO</th>\n",
       "      <th>industry_EDUCATION</th>\n",
       "      <th>industry_FINANCE</th>\n",
       "      <th>industry_HEALTH</th>\n",
       "      <th>industry_OIL</th>\n",
       "      <th>industry_SERVICE</th>\n",
       "      <th>industry_WEB</th>\n",
       "      <th>yearsExperience</th>\n",
       "      <th>milesFromMetropolis</th>\n",
       "    </tr>\n",
       "  </thead>\n",
       "  <tbody>\n",
       "    <tr>\n",
       "      <th>0</th>\n",
       "      <td>0</td>\n",
       "      <td>0</td>\n",
       "      <td>0</td>\n",
       "      <td>0</td>\n",
       "      <td>0</td>\n",
       "      <td>0</td>\n",
       "      <td>0</td>\n",
       "      <td>0</td>\n",
       "      <td>0</td>\n",
       "      <td>0</td>\n",
       "      <td>...</td>\n",
       "      <td>0</td>\n",
       "      <td>0</td>\n",
       "      <td>0</td>\n",
       "      <td>0</td>\n",
       "      <td>1</td>\n",
       "      <td>0</td>\n",
       "      <td>0</td>\n",
       "      <td>0</td>\n",
       "      <td>10</td>\n",
       "      <td>83</td>\n",
       "    </tr>\n",
       "    <tr>\n",
       "      <th>1</th>\n",
       "      <td>0</td>\n",
       "      <td>0</td>\n",
       "      <td>0</td>\n",
       "      <td>0</td>\n",
       "      <td>0</td>\n",
       "      <td>0</td>\n",
       "      <td>0</td>\n",
       "      <td>0</td>\n",
       "      <td>0</td>\n",
       "      <td>0</td>\n",
       "      <td>...</td>\n",
       "      <td>0</td>\n",
       "      <td>0</td>\n",
       "      <td>0</td>\n",
       "      <td>0</td>\n",
       "      <td>0</td>\n",
       "      <td>0</td>\n",
       "      <td>0</td>\n",
       "      <td>1</td>\n",
       "      <td>3</td>\n",
       "      <td>73</td>\n",
       "    </tr>\n",
       "    <tr>\n",
       "      <th>2</th>\n",
       "      <td>0</td>\n",
       "      <td>0</td>\n",
       "      <td>0</td>\n",
       "      <td>0</td>\n",
       "      <td>0</td>\n",
       "      <td>0</td>\n",
       "      <td>0</td>\n",
       "      <td>0</td>\n",
       "      <td>0</td>\n",
       "      <td>0</td>\n",
       "      <td>...</td>\n",
       "      <td>1</td>\n",
       "      <td>0</td>\n",
       "      <td>0</td>\n",
       "      <td>0</td>\n",
       "      <td>1</td>\n",
       "      <td>0</td>\n",
       "      <td>0</td>\n",
       "      <td>0</td>\n",
       "      <td>10</td>\n",
       "      <td>38</td>\n",
       "    </tr>\n",
       "    <tr>\n",
       "      <th>3</th>\n",
       "      <td>0</td>\n",
       "      <td>0</td>\n",
       "      <td>0</td>\n",
       "      <td>0</td>\n",
       "      <td>0</td>\n",
       "      <td>0</td>\n",
       "      <td>0</td>\n",
       "      <td>0</td>\n",
       "      <td>0</td>\n",
       "      <td>0</td>\n",
       "      <td>...</td>\n",
       "      <td>0</td>\n",
       "      <td>1</td>\n",
       "      <td>0</td>\n",
       "      <td>0</td>\n",
       "      <td>0</td>\n",
       "      <td>0</td>\n",
       "      <td>0</td>\n",
       "      <td>0</td>\n",
       "      <td>8</td>\n",
       "      <td>17</td>\n",
       "    </tr>\n",
       "    <tr>\n",
       "      <th>4</th>\n",
       "      <td>0</td>\n",
       "      <td>0</td>\n",
       "      <td>0</td>\n",
       "      <td>0</td>\n",
       "      <td>0</td>\n",
       "      <td>0</td>\n",
       "      <td>0</td>\n",
       "      <td>0</td>\n",
       "      <td>0</td>\n",
       "      <td>0</td>\n",
       "      <td>...</td>\n",
       "      <td>1</td>\n",
       "      <td>0</td>\n",
       "      <td>0</td>\n",
       "      <td>1</td>\n",
       "      <td>0</td>\n",
       "      <td>0</td>\n",
       "      <td>0</td>\n",
       "      <td>0</td>\n",
       "      <td>8</td>\n",
       "      <td>16</td>\n",
       "    </tr>\n",
       "  </tbody>\n",
       "</table>\n",
       "<p>5 rows × 94 columns</p>\n",
       "</div>"
      ],
      "text/plain": [
       "   companyId_COMP0  companyId_COMP1  companyId_COMP10  companyId_COMP11  \\\n",
       "0                0                0                 0                 0   \n",
       "1                0                0                 0                 0   \n",
       "2                0                0                 0                 0   \n",
       "3                0                0                 0                 0   \n",
       "4                0                0                 0                 0   \n",
       "\n",
       "   companyId_COMP12  companyId_COMP13  companyId_COMP14  companyId_COMP15  \\\n",
       "0                 0                 0                 0                 0   \n",
       "1                 0                 0                 0                 0   \n",
       "2                 0                 0                 0                 0   \n",
       "3                 0                 0                 0                 0   \n",
       "4                 0                 0                 0                 0   \n",
       "\n",
       "   companyId_COMP16  companyId_COMP17  ...  major_PHYSICS  industry_AUTO  \\\n",
       "0                 0                 0  ...              0              0   \n",
       "1                 0                 0  ...              0              0   \n",
       "2                 0                 0  ...              1              0   \n",
       "3                 0                 0  ...              0              1   \n",
       "4                 0                 0  ...              1              0   \n",
       "\n",
       "   industry_EDUCATION  industry_FINANCE  industry_HEALTH  industry_OIL  \\\n",
       "0                   0                 0                1             0   \n",
       "1                   0                 0                0             0   \n",
       "2                   0                 0                1             0   \n",
       "3                   0                 0                0             0   \n",
       "4                   0                 1                0             0   \n",
       "\n",
       "   industry_SERVICE  industry_WEB  yearsExperience  milesFromMetropolis  \n",
       "0                 0             0               10                   83  \n",
       "1                 0             1                3                   73  \n",
       "2                 0             0               10                   38  \n",
       "3                 0             0                8                   17  \n",
       "4                 0             0                8                   16  \n",
       "\n",
       "[5 rows x 94 columns]"
      ]
     },
     "execution_count": 5,
     "metadata": {},
     "output_type": "execute_result"
    }
   ],
   "source": [
    "# Before modeling, categorical variables to be encoded for both the training and test data\n",
    "\n",
    "def one_hot_encoding_df(df, cat_vars = None, num_vars = None):\n",
    "    '''Perform one-hot encoding on categorical variables and combine with numerical variables'''\n",
    "    cat_df = pd.get_dummies(training_df[cat_vars])\n",
    "    num_df = df[num_vars].apply(pd.to_numeric)\n",
    "    return pd.concat([cat_df, num_df], axis = 1)\n",
    "\n",
    "training_feat_df = one_hot_encoding_df(training_df, cat_vars = cat_cols, num_vars = num_cols)\n",
    "test_feat_df = one_hot_encoding_df(test_df, cat_vars = cat_cols, num_vars = num_cols)"
   ]
  },
  {
   "cell_type": "code",
   "execution_count": 8,
   "metadata": {
    "ExecuteTime": {
     "end_time": "2020-07-28T19:51:25.256996Z",
     "start_time": "2020-07-28T19:51:24.297537Z"
    },
    "hidden": true
   },
   "outputs": [
    {
     "name": "stdout",
     "output_type": "stream",
     "text": [
      "<class 'pandas.core.frame.DataFrame'>\n",
      "RangeIndex: 999995 entries, 0 to 999994\n",
      "Data columns (total 94 columns):\n",
      "companyId_COMP0           999995 non-null uint8\n",
      "companyId_COMP1           999995 non-null uint8\n",
      "companyId_COMP10          999995 non-null uint8\n",
      "companyId_COMP11          999995 non-null uint8\n",
      "companyId_COMP12          999995 non-null uint8\n",
      "companyId_COMP13          999995 non-null uint8\n",
      "companyId_COMP14          999995 non-null uint8\n",
      "companyId_COMP15          999995 non-null uint8\n",
      "companyId_COMP16          999995 non-null uint8\n",
      "companyId_COMP17          999995 non-null uint8\n",
      "companyId_COMP18          999995 non-null uint8\n",
      "companyId_COMP19          999995 non-null uint8\n",
      "companyId_COMP2           999995 non-null uint8\n",
      "companyId_COMP20          999995 non-null uint8\n",
      "companyId_COMP21          999995 non-null uint8\n",
      "companyId_COMP22          999995 non-null uint8\n",
      "companyId_COMP23          999995 non-null uint8\n",
      "companyId_COMP24          999995 non-null uint8\n",
      "companyId_COMP25          999995 non-null uint8\n",
      "companyId_COMP26          999995 non-null uint8\n",
      "companyId_COMP27          999995 non-null uint8\n",
      "companyId_COMP28          999995 non-null uint8\n",
      "companyId_COMP29          999995 non-null uint8\n",
      "companyId_COMP3           999995 non-null uint8\n",
      "companyId_COMP30          999995 non-null uint8\n",
      "companyId_COMP31          999995 non-null uint8\n",
      "companyId_COMP32          999995 non-null uint8\n",
      "companyId_COMP33          999995 non-null uint8\n",
      "companyId_COMP34          999995 non-null uint8\n",
      "companyId_COMP35          999995 non-null uint8\n",
      "companyId_COMP36          999995 non-null uint8\n",
      "companyId_COMP37          999995 non-null uint8\n",
      "companyId_COMP38          999995 non-null uint8\n",
      "companyId_COMP39          999995 non-null uint8\n",
      "companyId_COMP4           999995 non-null uint8\n",
      "companyId_COMP40          999995 non-null uint8\n",
      "companyId_COMP41          999995 non-null uint8\n",
      "companyId_COMP42          999995 non-null uint8\n",
      "companyId_COMP43          999995 non-null uint8\n",
      "companyId_COMP44          999995 non-null uint8\n",
      "companyId_COMP45          999995 non-null uint8\n",
      "companyId_COMP46          999995 non-null uint8\n",
      "companyId_COMP47          999995 non-null uint8\n",
      "companyId_COMP48          999995 non-null uint8\n",
      "companyId_COMP49          999995 non-null uint8\n",
      "companyId_COMP5           999995 non-null uint8\n",
      "companyId_COMP50          999995 non-null uint8\n",
      "companyId_COMP51          999995 non-null uint8\n",
      "companyId_COMP52          999995 non-null uint8\n",
      "companyId_COMP53          999995 non-null uint8\n",
      "companyId_COMP54          999995 non-null uint8\n",
      "companyId_COMP55          999995 non-null uint8\n",
      "companyId_COMP56          999995 non-null uint8\n",
      "companyId_COMP57          999995 non-null uint8\n",
      "companyId_COMP58          999995 non-null uint8\n",
      "companyId_COMP59          999995 non-null uint8\n",
      "companyId_COMP6           999995 non-null uint8\n",
      "companyId_COMP60          999995 non-null uint8\n",
      "companyId_COMP61          999995 non-null uint8\n",
      "companyId_COMP62          999995 non-null uint8\n",
      "companyId_COMP7           999995 non-null uint8\n",
      "companyId_COMP8           999995 non-null uint8\n",
      "companyId_COMP9           999995 non-null uint8\n",
      "jobType_CEO               999995 non-null uint8\n",
      "jobType_CFO               999995 non-null uint8\n",
      "jobType_CTO               999995 non-null uint8\n",
      "jobType_JANITOR           999995 non-null uint8\n",
      "jobType_JUNIOR            999995 non-null uint8\n",
      "jobType_MANAGER           999995 non-null uint8\n",
      "jobType_SENIOR            999995 non-null uint8\n",
      "jobType_VICE_PRESIDENT    999995 non-null uint8\n",
      "degree_BACHELORS          999995 non-null uint8\n",
      "degree_DOCTORAL           999995 non-null uint8\n",
      "degree_HIGH_SCHOOL        999995 non-null uint8\n",
      "degree_MASTERS            999995 non-null uint8\n",
      "degree_NONE               999995 non-null uint8\n",
      "major_BIOLOGY             999995 non-null uint8\n",
      "major_BUSINESS            999995 non-null uint8\n",
      "major_CHEMISTRY           999995 non-null uint8\n",
      "major_COMPSCI             999995 non-null uint8\n",
      "major_ENGINEERING         999995 non-null uint8\n",
      "major_LITERATURE          999995 non-null uint8\n",
      "major_MATH                999995 non-null uint8\n",
      "major_NONE                999995 non-null uint8\n",
      "major_PHYSICS             999995 non-null uint8\n",
      "industry_AUTO             999995 non-null uint8\n",
      "industry_EDUCATION        999995 non-null uint8\n",
      "industry_FINANCE          999995 non-null uint8\n",
      "industry_HEALTH           999995 non-null uint8\n",
      "industry_OIL              999995 non-null uint8\n",
      "industry_SERVICE          999995 non-null uint8\n",
      "industry_WEB              999995 non-null uint8\n",
      "yearsExperience           999995 non-null int64\n",
      "milesFromMetropolis       999995 non-null int64\n",
      "dtypes: int64(2), uint8(92)\n",
      "memory usage: 103.0 MB\n"
     ]
    }
   ],
   "source": [
    "training_feat_df.info()"
   ]
  },
  {
   "cell_type": "markdown",
   "metadata": {},
   "source": [
    "### 8 : Create and Test Models"
   ]
  },
  {
   "cell_type": "raw",
   "metadata": {},
   "source": [
    "# Recall our baseline model using a simple model: Linear Regression\n",
    "\n",
    "X = df.drop(columns = ['jobId', 'companyId', 'salary'])\n",
    "y = df['salary']\n",
    "lin_reg = LinearRegression().fit(X, y)\n",
    "\n",
    "# Measure the efficacy of baseline model using MSE\n",
    "neg_mse = cross_val_score(lin_reg, X, y, scoring ='neg_mean_squared_error', cv = 5)\n",
    "baseline_score = -1.0*np.mean(neg_mse)\n",
    "\n",
    "print('Baseline model MSE: ', baseline_score)\n",
    "\n",
    "# Baseline model MSE:  399.76793197190153"
   ]
  },
  {
   "cell_type": "code",
   "execution_count": null,
   "metadata": {},
   "outputs": [],
   "source": [
    "# Create and tune the models brainstormed in part 2\n",
    "models = []\n",
    "mean_mse = {}\n",
    "cv_std = {}\n",
    "res = {}\n"
   ]
  },
  {
   "cell_type": "code",
   "execution_count": null,
   "metadata": {},
   "outputs": [],
   "source": [
    "# Create Linear Regression Model\n",
    "linReg = LinearRegression()\n",
    "\n",
    "linReg_model = linReg.fit(training_feat_df, clean_target_df)\n",
    "\n",
    "#pipeline = make_pipeline(StandardScaler(), LinearRegression())\n",
    "#pipeline.fit(training_feat_df, target_df)\n",
    "\n",
    "# do 3-fold cross validation on models and measure MSE\n",
    "\n",
    "neg_mse = cross_val_score(linReg, training_feat_df, clean_target_df, scoring = 'neg_mean_squared_error', cv = 3)\n",
    "mean_mse = -1.0*np.mean(neg_mse)\n",
    "cv_std = np.std(neg_mse)"
   ]
  },
  {
   "cell_type": "code",
   "execution_count": null,
   "metadata": {},
   "outputs": [],
   "source": [
    "# Create Random Forest Regression Model\n",
    "rf = RandomForestRegressor()"
   ]
  },
  {
   "cell_type": "code",
   "execution_count": null,
   "metadata": {},
   "outputs": [],
   "source": [
    "# Create Gradient Boosted Regression Model\n",
    "gbr = GradientBoostingRegression()"
   ]
  },
  {
   "cell_type": "code",
   "execution_count": null,
   "metadata": {},
   "outputs": [],
   "source": [
    "# Use cross val score to evaluate MSE of each model and print a summary for each one"
   ]
  },
  {
   "cell_type": "markdown",
   "metadata": {},
   "source": [
    "### ---- 10 Select best model  ----"
   ]
  },
  {
   "cell_type": "code",
   "execution_count": null,
   "metadata": {},
   "outputs": [],
   "source": [
    "#select the model with the lowest error as your \"production\" model"
   ]
  },
  {
   "cell_type": "markdown",
   "metadata": {},
   "source": [
    "## Part 4 - DEPLOY"
   ]
  },
  {
   "cell_type": "markdown",
   "metadata": {},
   "source": [
    "### ---- 11 Automate pipeline ----"
   ]
  },
  {
   "cell_type": "code",
   "execution_count": null,
   "metadata": {},
   "outputs": [],
   "source": [
    "#write script that trains model on entire training set, saves model to disk,\n",
    "#and scores the \"test\" dataset"
   ]
  },
  {
   "cell_type": "markdown",
   "metadata": {},
   "source": [
    "### ---- 12 Deploy solution ----"
   ]
  },
  {
   "cell_type": "code",
   "execution_count": null,
   "metadata": {},
   "outputs": [],
   "source": [
    "#save your prediction to a csv file or optionally save them as a table in a SQL database\n",
    "#additionally, you want to save a visualization and summary of your prediction and feature importances\n",
    "#these visualizations and summaries will be extremely useful to business stakeholders"
   ]
  },
  {
   "cell_type": "code",
   "execution_count": null,
   "metadata": {},
   "outputs": [],
   "source": []
  }
 ],
 "metadata": {
  "kernelspec": {
   "display_name": "Python 3",
   "language": "python",
   "name": "python3"
  },
  "language_info": {
   "codemirror_mode": {
    "name": "ipython",
    "version": 3
   },
   "file_extension": ".py",
   "mimetype": "text/x-python",
   "name": "python",
   "nbconvert_exporter": "python",
   "pygments_lexer": "ipython3",
   "version": "3.6.8"
  }
 },
 "nbformat": 4,
 "nbformat_minor": 2
}
